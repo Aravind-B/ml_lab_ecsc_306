{
 "cells": [
  {
   "cell_type": "markdown",
   "metadata": {},
   "source": [
    "$$Assignment\n",
    "Programs$$\n",
    "$$1)(a+b)^2=a^2+2ab+b^2$$"
   ]
  },
  {
   "cell_type": "code",
   "execution_count": 2,
   "metadata": {},
   "outputs": [
    {
     "name": "stdout",
     "output_type": "stream",
     "text": [
      "16\n"
     ]
    }
   ],
   "source": [
    "import tensorflow as tf\n",
    "two = tf.constant(2)\n",
    "a = tf.constant(1)\n",
    "b = tf.constant(3)\n",
    "\n",
    "with tf.name_scope(\"Operation_Group\"):\n",
    "    with tf.name_scope(\"Scope_A\"):\n",
    "        c = tf.multiply(a, a, name=\"Squaring_first_number\")\n",
    "    with tf.name_scope(\"Scope_B\"):\n",
    "        with tf.name_scope(\"Multiply_these_numbers_with_constant_2\"):\n",
    "            d = tf.multiply(two, a, name=\"2_mul_a\")\n",
    "            e = tf.multiply(d, b, name=\"d_mul_b\")\n",
    "    with tf.name_scope(\"Scope_C\"):\n",
    "        f = tf.multiply(b, b, name=\"Squaring_second_number\")\n",
    "\n",
    "g = tf.add(c, e)\n",
    "h = tf.add(g, f)\n",
    "\n",
    "with tf.Session() as sess:\n",
    "    writer = tf.summary.FileWriter(\"/tmp/tboard/result_1\", sess.graph)\n",
    "    print(sess.run(h))\n",
    "    writer.close()"
   ]
  },
  {
   "cell_type": "markdown",
   "metadata": {},
   "source": [
    "$$2)(a+b+c)^2=a^2+b^2+c^2+2ab+2bc+2ca$$"
   ]
  },
  {
   "cell_type": "code",
   "execution_count": 4,
   "metadata": {},
   "outputs": [
    {
     "name": "stdout",
     "output_type": "stream",
     "text": [
      "64\n"
     ]
    }
   ],
   "source": [
    "import tensorflow as tf\n",
    "two = tf.constant(2)\n",
    "a = tf.constant(1)\n",
    "b = tf.constant(3)\n",
    "c = tf.constant(4)\n",
    "\n",
    "with tf.name_scope(\"Operation_Group2\"):\n",
    "    with tf.name_scope(\"Scope_A\"):\n",
    "        d = tf.multiply(a, a, name=\"Squaring_first_number\")\n",
    "    with tf.name_scope(\"Scope_B\"):\n",
    "        e = tf.multiply(b, b, name=\"Squaring_second_number\")\n",
    "    with tf.name_scope(\"Scope_C\"):\n",
    "        f = tf.multiply(c, c, name=\"Squaring_third_number\")\n",
    "    with tf.name_scope(\"Scope_D\"):\n",
    "        with tf.name_scope(\"Multiply_a_and_b_with_constant_2\"):\n",
    "            g = tf.multiply(two, a, name=\"2_mul_a\")\n",
    "            h = tf.multiply(g, b, name=\"d_mul_b\")\n",
    "    with tf.name_scope(\"Scope_E\"):\n",
    "        with tf.name_scope(\"Multiply_b_and_c_with_constant_2\"):\n",
    "            i = tf.multiply(two, b, name=\"2_mul_a\")\n",
    "            j = tf.multiply(i, c, name=\"d_mul_b\")\n",
    "    with tf.name_scope(\"Scope_F\"):\n",
    "        with tf.name_scope(\"Multiply_c_and_a_with_constant_2\"):\n",
    "            k = tf.multiply(two, c, name=\"2_mul_a\")\n",
    "            l = tf.multiply(k, a, name=\"d_mul_b\")\n",
    "    \n",
    "\n",
    "m = tf.add(d, e)\n",
    "n = tf.add(m, f)\n",
    "o = tf.add(n, h)\n",
    "p = tf.add(o, j)\n",
    "q = tf.add(p, l)\n",
    "\n",
    "with tf.Session() as sess:\n",
    "    writer = tf.summary.FileWriter(\"/tmp/tboard/result_2\", sess.graph)\n",
    "    print(sess.run(q))\n",
    "    writer.close()"
   ]
  },
  {
   "cell_type": "code",
   "execution_count": null,
   "metadata": {
    "collapsed": true
   },
   "outputs": [],
   "source": []
  }
 ],
 "metadata": {
  "kernelspec": {
   "display_name": "Python 3",
   "language": "python",
   "name": "python3"
  },
  "language_info": {
   "codemirror_mode": {
    "name": "ipython",
    "version": 3
   },
   "file_extension": ".py",
   "mimetype": "text/x-python",
   "name": "python",
   "nbconvert_exporter": "python",
   "pygments_lexer": "ipython3",
   "version": "3.6.1"
  }
 },
 "nbformat": 4,
 "nbformat_minor": 2
}
