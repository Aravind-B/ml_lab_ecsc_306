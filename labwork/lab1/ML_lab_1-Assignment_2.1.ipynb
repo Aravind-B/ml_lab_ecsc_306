{
 "cells": [
  {
   "cell_type": "markdown",
   "metadata": {},
   "source": [
    "Write a program using tensorflow to calculate : \n",
    "    $$y=mx+c$$"
   ]
  },
  {
   "cell_type": "code",
   "execution_count": 1,
   "metadata": {},
   "outputs": [
    {
     "name": "stdout",
     "output_type": "stream",
     "text": [
      "0\n"
     ]
    }
   ],
   "source": [
    "import tensorflow as tf\n",
    "m = tf.constant(1)\n",
    "x = tf.constant(0)\n",
    "c = tf.constant(0)\n",
    "\n",
    "with tf.name_scope(\"Straight_line_Scope\"):\n",
    "    a = tf.multiply(m,x, name=\"Multiplying_x_intercept_with_slope\")\n",
    "    \n",
    "y = tf.add(a,c , name=\"Independent_variable\")\n",
    "\n",
    "with tf.Session() as sess:\n",
    "    writer = tf.summary.FileWriter(\"/tmp/tboard/result1\", sess.graph)\n",
    "    print(sess.run(y))\n",
    "    writer.close()"
   ]
  },
  {
   "cell_type": "markdown",
   "metadata": {},
   "source": [
    "# Part 1\n",
    "\n",
    "1. Read 2 arrays x,y containing floating point values\n",
    "2. Calculate mean of x & y\n",
    "3. Calculate variance for x\n",
    "    $$variance(x)=(sum((x-mean(x))^2))/n$$\n",
    "4. Calculate covariance of x & y\n",
    "    $$covariance = (sum((x(i) - mean(x)) * (y(i) - mean(y))))/(n-1)$$\n",
    "5. Calculate value of m\n",
    "    $$m = covariance(x,y)/variance(x)$$\n",
    "6. Calculate value of c\n",
    "    $$c = mean(y) -m* mean(x)$$"
   ]
  },
  {
   "cell_type": "code",
   "execution_count": 6,
   "metadata": {},
   "outputs": [
    {
     "name": "stdout",
     "output_type": "stream",
     "text": [
      "Mean of X:  5.628\n",
      "Mean of Y:  13.96\n",
      "Variance of X:  11.0344\n",
      "Covariance of X and Y:  -96.9747\n",
      "value of m with formula m = covariance(x,y)/variance(x):  -8.78841\n",
      "Value of c = mean(y) -m* mean(x):  63.4212\n"
     ]
    }
   ],
   "source": [
    "import tensorflow as tf\n",
    "\n",
    "#1.Reading 2 arrays of 4 values each\n",
    "#Let us assume 'p' as x(response variable) and 'q' as y(predictor variable)\n",
    "with tf.name_scope(\"Init\"):\n",
    "    arrayX= [1.0, 2.0, 3.0, 4.0, 5.0, 6.0, 7.6, 8.0, 9.68, 10]         #input array for X\n",
    "    arrayY = [2.0, 4.0, 7.0, 9.0, 10.0, 12.0, 15.1, 19.2, 29.1, 32.2]      #input array for Y\n",
    "    p = tf.constant(arrayX, name='x', dtype=tf.float32)              #tf array for X\n",
    "    q = tf.constant(arrayY, name='y', dtype=tf.float32)              #tf array for Y\n",
    "\n",
    "#2. Calculating mean using reduce_mean function\n",
    "with tf.name_scope(\"mean\"):\n",
    "    MeanP=tf.reduce_mean(p)\n",
    "    MeanQ=tf.reduce_mean(q,name=\"Meann\")\n",
    "\n",
    "#3. Calculating variance of x\n",
    "with tf.name_scope(\"Variance\"):\n",
    "    with tf.name_scope(\"Scope_A\"):\n",
    "        e=tf.square(tf.subtract(p[0],MeanP, name=\"Sub1\"), name=\"sq1\")\n",
    "    with tf.name_scope(\"Scope_B\"):\n",
    "        f=tf.square(tf.subtract(p[1],MeanP,name=\"sub2\"), name=\"sq2\")\n",
    "    with tf.name_scope(\"Scope_C\"):\n",
    "        g=tf.square(tf.subtract(p[2],MeanP,name=\"sub3\"), name=\"sq3\")\n",
    "    with tf.name_scope(\"Scope_D\"):\n",
    "        h=tf.square(tf.subtract(p[3],MeanP,name=\"sub4\"), name=\"sq4\")\n",
    "\n",
    "\n",
    "i=tf.add(tf.add(e,f,name=\"add_A_B\"),tf.add(g,h,name=\"add_C_D\"),name=\"add_all\")\n",
    "j=tf.div(i,4, name=\"var\")\n",
    "\n",
    "\n",
    "#4. Calculate covariance of x & y\n",
    "with tf.name_scope(\"covariance\"):\n",
    "    with tf.name_scope(\"Scope_E\"):\n",
    "        k=tf.subtract(p[0],MeanP, name=\"Sub_first_value_of_array_p\")\n",
    "        l=tf.subtract(q[0],MeanQ, name=\"Sub_first_value_of_array_q\")\n",
    "        n=tf.multiply(k,l, name=\"multiplying_subracted_values1\")\n",
    "    with tf.name_scope(\"Scope_F\"):\n",
    "        o=tf.subtract(p[1],MeanP, name=\"Sub_second_value_of_array_p\")\n",
    "        r=tf.subtract(q[1],MeanQ, name=\"Sub_second_value_of_array_q\")\n",
    "        s=tf.multiply(n,o, name=\"multiplying_subracted_values2\")\n",
    "    with tf.name_scope(\"Scope_G\"):\n",
    "        t=tf.subtract(p[2],MeanP, name=\"Sub_third_value_of_array_p\")\n",
    "        u=tf.subtract(q[2],MeanQ, name=\"Sub_third_value_of_array_q\")\n",
    "        v=tf.multiply(k,l, name=\"multiplying_subracted_values3\")\n",
    "    with tf.name_scope(\"Scope_H\"):\n",
    "        w=tf.subtract(p[3],MeanP, name=\"Sub_fourth_value_of_array_p\")\n",
    "        z=tf.subtract(q[3],MeanQ, name=\"Sub_fourth_value_of_array_q\")\n",
    "        a1=tf.multiply(n,o, name=\"multiplying_subracted_values4\")\n",
    "        \n",
    "\n",
    "a2=tf.add(tf.add(n,s,name=\"add_E_F\"),tf.add(v,a1,name=\"add_G_H\"),name=\"add_all1\")\n",
    "a3=tf.div(a2,(4-1), name=\"covar\")\n",
    "\n",
    "\n",
    "#5. Calculate value of m with formula m = covariance(x,y)/variance(x)\n",
    "\n",
    "with tf.name_scope(\"m_value\"):\n",
    "    m1=tf.div(a3,j, name=\"mVal\")\n",
    "    \n",
    "\n",
    "#6. Calculate value of c = mean(y) -m* mean(x)\n",
    "\n",
    "    with tf.name_scope(\"c_value\"):\n",
    "        d=tf.multiply(m1,MeanP)\n",
    "    \n",
    "c1=tf.subtract(MeanQ,d, name=\"cVal\")\n",
    "    \n",
    "\n",
    "with tf.Session() as sess:\n",
    "    writer = tf.summary.FileWriter(\"/tmp/tboard/res\", sess.graph)\n",
    "    print(\"Mean of X: \",sess.run(MeanP))\n",
    "    print(\"Mean of Y: \",sess.run(MeanQ))\n",
    "    print(\"Variance of X: \",sess.run(j))\n",
    "    print(\"Covariance of X and Y: \",sess.run(a3))\n",
    "    print(\"value of m with formula m = covariance(x,y)/variance(x): \",sess.run(m1))\n",
    "    print(\"Value of c = mean(y) -m* mean(x): \",sess.run(c1))\n",
    "    writer.close()"
   ]
  },
  {
   "cell_type": "markdown",
   "metadata": {},
   "source": [
    "## Part 2\n",
    "\n",
    "1. Plot graph for actual values against predicted value\n"
   ]
  },
  {
   "cell_type": "markdown",
   "metadata": {},
   "source": [
    "Method 1: Using Tensorflow, Numpy an Matplotlib"
   ]
  },
  {
   "cell_type": "code",
   "execution_count": 3,
   "metadata": {},
   "outputs": [
    {
     "name": "stdout",
     "output_type": "stream",
     "text": [
      "Epoch: 0050 cost= 77.106353760 W1= 0.74528 b= -0.120177\n",
      "Epoch: 0100 cost= 52.741931915 W1= 1.09098 b= -0.0758464\n",
      "Epoch: 0150 cost= 36.644580841 W1= 1.37208 b= -0.0405084\n",
      "Epoch: 0200 cost= 26.009059906 W1= 1.60067 b= -0.0124791\n",
      "Epoch: 0250 cost= 18.982055664 W1= 1.78656 b= 0.00961025\n",
      "Epoch: 0300 cost= 14.339053154 W1= 1.93777 b= 0.0268721\n",
      "Epoch: 0350 cost= 11.271040916 W1= 2.06076 b= 0.0402107\n",
      "Epoch: 0400 cost= 9.243518829 W1= 2.16084 b= 0.0503611\n",
      "Epoch: 0450 cost= 7.903329372 W1= 2.24228 b= 0.0579207\n",
      "Epoch: 0500 cost= 7.017219543 W1= 2.30858 b= 0.0633752\n",
      "Epoch: 0550 cost= 6.431120872 W1= 2.36256 b= 0.0671194\n",
      "Epoch: 0600 cost= 6.043115616 W1= 2.40654 b= 0.0694739\n",
      "Epoch: 0650 cost= 5.785996914 W1= 2.44238 b= 0.0706997\n",
      "Epoch: 0700 cost= 5.615339279 W1= 2.47161 b= 0.0710088\n",
      "Epoch: 0750 cost= 5.501751900 W1= 2.49546 b= 0.0705735\n",
      "Epoch: 0800 cost= 5.425860882 W1= 2.51495 b= 0.0695339\n",
      "Epoch: 0850 cost= 5.374877453 W1= 2.53088 b= 0.0680038\n",
      "Epoch: 0900 cost= 5.340315819 W1= 2.54392 b= 0.0660758\n",
      "Epoch: 0950 cost= 5.316607475 W1= 2.55462 b= 0.0638251\n",
      "Epoch: 1000 cost= 5.300053596 W1= 2.56341 b= 0.0613129\n",
      "Optimization Finished!\n",
      "Training cost= 5.30005 W1= 2.56341 b2= 0.0613129 \n",
      "\n"
     ]
    },
    {
     "data": {
      "image/png": "[encoded data removed]",
      "text/plain": [
       "<matplotlib.figure.Figure at 0x7f08bf7bc320>"
      ]
     },
     "metadata": {},
     "output_type": "display_data"
    }
   ],
   "source": [
    "import numpy as np\n",
    "rng = np.random\n",
    "\n",
    "import matplotlib.pyplot as plt\n",
    "learning_rate = 0.0001\n",
    "training_epochs = 1000\n",
    "display_step = 50\n",
    "\n",
    "with tf.Session() as sess:\n",
    "    x11=sess.run(p)\n",
    "    y11=sess.run(q)\n",
    "with tf.name_scope(\"Plotting\"):\n",
    "    npX= np.asarray(x11)\n",
    "    npY= np.asarray(y11)\n",
    "    n_samples = npX.shape[0]\n",
    "    X1 = tf.placeholder(\"float\")\n",
    "    Y1 = tf.placeholder(\"float\")\n",
    "\n",
    "    # Set model weights\n",
    "    W1 = tf.Variable(rng.randn(), name=\"weight\")\n",
    "    b2 = tf.Variable(rng.randn(), name=\"bias\")\n",
    "\n",
    "    # Construct a linear model\n",
    "    pred = tf.add(tf.multiply(X1, W1), b2)\n",
    "\n",
    "    # Mean squared error\n",
    "    cost = tf.reduce_sum(tf.pow(pred-Y1, 2))/(2*n_samples)\n",
    "    # Gradient descent\n",
    "    optimizer = tf.train.GradientDescentOptimizer(learning_rate).minimize(cost)\n",
    "\n",
    "    # Initializing the variables\n",
    "    init = tf.global_variables_initializer()\n",
    "\n",
    "    # Launch the graph\n",
    "    with tf.Session() as sess:\n",
    "        sess.run(init)\n",
    "\n",
    "        # Fit all training data\n",
    "        for epoch in range(training_epochs):\n",
    "            for (a4, a5) in zip(npX, npY):\n",
    "                sess.run(optimizer, feed_dict={X1: a4, Y1: a5})\n",
    "\n",
    "            # Display logs per epoch step\n",
    "            if (epoch+1) % display_step == 0:\n",
    "                c2 = sess.run(cost, feed_dict={X1: npX, Y1:npY})\n",
    "                print(\"Epoch:\", '%04d' % (epoch+1), \"cost=\", \"{:.9f}\".format(c2), \\\n",
    "                    \"W1=\", sess.run(W1), \"b=\", sess.run(b2))\n",
    "\n",
    "        print(\"Optimization Finished!\")\n",
    "        training_cost = sess.run(cost, feed_dict={X1: npX, Y1: npY})\n",
    "        print(\"Training cost=\", training_cost, \"W1=\", sess.run(W1), \"b2=\", sess.run(b2), '\\n')\n",
    "\n",
    "        # Graphic display\n",
    "        plt.plot(npX, npY, 'ro', label='Original data')\n",
    "        plt.plot(npX, sess.run(W1) * npX + sess.run(b2), label='Fitted line')\n",
    "        plt.legend()\n",
    "        plt.show()"
   ]
  },
  {
   "cell_type": "markdown",
   "metadata": {},
   "source": [
    "Method 2: Using Numpy and matplotlib"
   ]
  },
  {
   "cell_type": "code",
   "execution_count": 7,
   "metadata": {},
   "outputs": [
    {
     "data": {
      "image/png": "[encoded data removed]",
      "text/plain": [
       "<matplotlib.figure.Figure at 0x7f08bf7148d0>"
      ]
     },
     "metadata": {},
     "output_type": "display_data"
    }
   ],
   "source": [
    "# Graph\n",
    "GraphFit= np.polyfit(npX,npY,1)\n",
    "fitFunc= np.poly1d(GraphFit)      # fitFunc is now a function which takes in x and returns an estimate for y\n",
    "\n",
    "plt.plot(npX,npY, 'yo',label='Original data')\n",
    "plt.plot(npX,fitFunc(npX), '--k',label='Fitted line')\n",
    "plt.legend()\n",
    "plt.show()"
   ]
  },
  {
   "cell_type": "markdown",
   "metadata": {},
   "source": [
    " 2.Calculate root mean square error."
   ]
  },
  {
   "cell_type": "code",
   "execution_count": 5,
   "metadata": {},
   "outputs": [
    {
     "name": "stdout",
     "output_type": "stream",
     "text": [
      "Root mean square error=\n",
      "10.7641\n"
     ]
    }
   ],
   "source": [
    "#RMS Error\n",
    "with tf.name_scope(\"Root_Mean_Square_error\"):    \n",
    "    rt_mn_sq_err= tf.sqrt(tf.reduce_mean(tf.squared_difference(p, q)))  #Source: https://stackoverflow.com/a/43830200\n",
    "    \n",
    "    with tf.Session() as sess:\n",
    "        print(\"Root mean square error=\")\n",
    "        print(sess.run(rt_mn_sq_err))"
   ]
  },
  {
   "cell_type": "markdown",
   "metadata": {},
   "source": [
    "$$Assignment 1 End$$"
   ]
  }
 ],
 "metadata": {
  "kernelspec": {
   "display_name": "Python 3",
   "language": "python",
   "name": "python3"
  },
  "language_info": {
   "codemirror_mode": {
    "name": "ipython",
    "version": 3
   },
   "file_extension": ".py",
   "mimetype": "text/x-python",
   "name": "python",
   "nbconvert_exporter": "python",
   "pygments_lexer": "ipython3",
   "version": "3.6.1"
  }
 },
 "nbformat": 4,
 "nbformat_minor": 2
}
