{
 "cells": [
  {
   "cell_type": "markdown",
   "metadata": {
    "slideshow": {
     "slide_type": "slide"
    }
   },
   "source": [
    "Write a program using tensorflow to build a stochastic gradient descent model for linear regression.\n"
   ]
  },
  {
   "cell_type": "markdown",
   "metadata": {
    "slideshow": {
     "slide_type": "slide"
    }
   },
   "source": [
    "\n",
    "## Previous Work \n",
    "\n",
    "Co-efficients $\\theta_1$ & $\\theta_0$ for\n",
    "\n",
    "$$y=\\theta_0 + \\theta_1x$$\n",
    "are calculated for given values from previous assignment.\n",
    "\n",
    "\n",
    "Stochastic gradient descent requires two parameters:\n",
    "\n",
    "    Learning Rate: Used to limit the amount each coefficient is corrected each time it is updated.\n",
    "    \n",
    "    Epochs: The number of times to run through the training data while updating the coefficients.\n",
    "    \n",
    "    There are 3 loops we need to perform in the function:\n",
    "\n",
    "    a. Loop over each epoch.\n",
    "    b. Loop over each row in the training data for an epoch.\n",
    "    c. Loop over each coefficient and update it for a row in an epoch.\n",
    "Part 1\n",
    "\n",
    "// for Trial - dataset = [[1, 1], [2, 3], [4, 3], [3, 2], [5, 5]]\n",
    "\n",
    "\n",
    "\n",
    "1. Start with 0 (zero ) value for  m & c .\n",
    "2. Using cost function \n",
    "    $$J(\\theta) = \\frac{1}{2m}\\sum_{i=1}^m(h_\\theta(x^{(i)})-y^{(i)})^2$$\n",
    "    where $(h_\\theta(x^{(i)})$ is prediction for present iteration\n",
    "\n",
    "\n",
    "    $$\\theta_1(t+1) = \\theta_1(t) - learning\\_rate * cost(t) * x(t)$$\n",
    "    $$\\theta_0(t+1) = \\theta_0(t) - learning\\_rate * cost(t) $$\n",
    "\n",
    "\n",
    "3. Find the values of $\\theta_1$ & $\\theta_0$ by updating the values with learning rate of 0.005, 0.0005 etc and epoch value 100,500,1000\n",
    "4. Stop the iterations when error falls below threshold\n",
    "\n"
   ]
  },
  {
   "cell_type": "markdown",
   "metadata": {
    "slideshow": {
     "slide_type": "slide"
    }
   },
   "source": [
    "Part 2\n",
    "1. Display the graph of decreasing cost function wrt learning rate and epoch\n",
    "2. Compare time complexity of tensorflow api and user defined function\n",
    "3. Start with random values of $\\theta_1$ & $\\theta_0$ . Analyse best approach for initial values of $\\theta_1$ & $\\theta_0$.\n"
   ]
  },
  {
   "cell_type": "code",
   "execution_count": null,
   "metadata": {
    "collapsed": true
   },
   "outputs": [],
   "source": [
    "Part 3\n",
    "1. Write analysis on how optimization was improved.\n",
    "2. Implement 3 cost functions"
   ]
  },
  {
   "cell_type": "markdown",
   "metadata": {
    "slideshow": {
     "slide_type": "slide"
    }
   },
   "source": [
    "\n",
    "\n",
    " Additional Cost Function : \n",
    " \n",
    " A1 = Root Mean Square Error\n",
    " A2 =\n",
    " B1 =\n",
    " B2 =\n",
    " C1 =\n",
    " C2 =\n",
    " D1 =\n",
    " D2 = Sum of Square Error"
   ]
  }
 ],
 "metadata": {
  "celltoolbar": "Slideshow",
  "kernelspec": {
   "display_name": "Python 2",
   "language": "python",
   "name": "python2"
  },
  "language_info": {
   "codemirror_mode": {
    "name": "ipython",
    "version": 2
   },
   "file_extension": ".py",
   "mimetype": "text/x-python",
   "name": "python",
   "nbconvert_exporter": "python",
   "pygments_lexer": "ipython2",
   "version": "2.7.6"
  }
 },
 "nbformat": 4,
 "nbformat_minor": 2
}
