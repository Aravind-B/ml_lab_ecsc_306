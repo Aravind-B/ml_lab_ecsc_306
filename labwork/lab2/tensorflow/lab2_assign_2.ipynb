{
 "cells": [
  {
   "cell_type": "markdown",
   "metadata": {
    "slideshow": {
     "slide_type": "slide"
    }
   },
   "source": [
    "Write a program using tensorflow to build a batch gradient descent model for logistic regression.\n"
   ]
  },
  {
   "cell_type": "markdown",
   "metadata": {
    "slideshow": {
     "slide_type": "slide"
    }
   },
   "source": [
    "\n",
    "\n",
    "Batch gradient descent requires 3 parameters:\n",
    "\n",
    "    Learning Rate: Used to limit the amount each coefficient is corrected each time it is updated.\n",
    "    \n",
    "    Epochs: The number of times to run through the training data while updating the coefficients.\n",
    "    \n",
    "    Batch_no : Update parameters after no. of iterations\n",
    "    \n",
    "    There are 3 loops we need to perform in the function:\n",
    "\n",
    "    a. Loop over each epoch.\n",
    "    b. Loop over each row in the training data for an epoch.\n",
    "    c. Loop over each coefficient and update it for a row in an epoch.\n",
    "Part 1\n",
    "\n",
    "\n",
    "\n",
    "\n",
    "$$0 \\leq h_\\theta(x) \\leq 1$$  . Prediction value should be either 0 or 1.\n",
    "\n",
    "\n",
    "\n",
    "1. h$_\\theta(x)$  hypothesis is given by sigmoid function\n",
    "\n",
    "    $$h_\\theta(x) = \\frac{1}{1 + e^-\\theta^T x}$$\n",
    "\n",
    "2. Using cost function\n",
    "   \n",
    "       \n",
    "  ##  $$Cost(h_\\theta(x),y) = -y*log(h_\\theta(x)) - (1-y) log(1- h_\\theta(x))$$\n",
    "    \n",
    "    \n",
    "\n",
    "    Update function is given by\n",
    "    \n",
    " ###   $$\\theta_j  : = \\theta_j - \\frac{\\alpha}{m}\\sum_{i=1}^m(h_\\theta(x^{(i)}) - y^{(i)}) x^{(i)} $$\n",
    "\n",
    "\n",
    "\n",
    "\n",
    "3. Find the values of $\\theta_1$ & $\\theta_0$ by updating the values with learning rate of 0.005, 0.0005 etc and epoch value 100,500,1000\n",
    "4. Stop the iterations when error falls below threshold\n",
    "\n"
   ]
  },
  {
   "cell_type": "markdown",
   "metadata": {
    "slideshow": {
     "slide_type": "slide"
    }
   },
   "source": [
    "Part 2\n",
    "1. Display the graph of decreasing cost function wrt learning rate and epoch\n",
    "2. Compare time complexity of tensorflow api and user defined function\n"
   ]
  },
  {
   "cell_type": "markdown",
   "metadata": {
    "collapsed": true,
    "slideshow": {
     "slide_type": "slide"
    }
   },
   "source": [
    "Part 3\n",
    "1. Write analysis on how optimization was improved.\n",
    "2. Implement 3 cost functions"
   ]
  },
  {
   "cell_type": "code",
   "execution_count": null,
   "metadata": {},
   "outputs": [],
   "source": [
    "#Sample Data : \n",
    "dataset = [[2.7810836,2.550537003,0],\n",
    "\t[1.465489372,2.362125076,0],\n",
    "\t[3.396561688,4.400293529,0],\n",
    "\t[1.38807019,1.850220317,0],\n",
    "\t[3.06407232,3.005305973,0],\n",
    "\t[7.627531214,2.759262235,1],\n",
    "\t[5.332441248,2.088626775,1],\n",
    "\t[6.922596716,1.77106367,1],\n",
    "\t[8.675418651,-0.242068655,1],\n",
    "\t[7.673756466,3.508563011,1]]"
   ]
  }
 ],
 "metadata": {
  "celltoolbar": "Slideshow",
  "kernelspec": {
   "display_name": "Python 2",
   "language": "python",
   "name": "python2"
  },
  "language_info": {
   "codemirror_mode": {
    "name": "ipython",
    "version": 2
   },
   "file_extension": ".py",
   "mimetype": "text/x-python",
   "name": "python",
   "nbconvert_exporter": "python",
   "pygments_lexer": "ipython2",
   "version": "2.7.6"
  }
 },
 "nbformat": 4,
 "nbformat_minor": 2
}
