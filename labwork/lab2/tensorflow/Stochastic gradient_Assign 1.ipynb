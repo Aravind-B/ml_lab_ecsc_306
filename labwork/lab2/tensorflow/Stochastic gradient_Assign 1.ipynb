{
 "cells": [
  {
   "cell_type": "markdown",
   "metadata": {
    "collapsed": true
   },
   "source": [
    "### Write a program using tensorflow to build a stochastic gradient descent model for linear regression. "
   ]
  },
  {
   "cell_type": "markdown",
   "metadata": {},
   "source": [
    "Part 1\n",
    "\n",
    "// for Trial - dataset = [[1, 1], [2, 3], [4, 3], [3, 2], [5, 5]]\n",
    "\n",
    "\n",
    "\n",
    "1. Start with 0 (zero ) value for  m & c .\n",
    "2. Using cost function \n",
    "    $$J(\\theta) = \\frac{1}{2m}\\sum_{i=1}^m(h_\\theta(x^{(i)})-y^{(i)})^2$$\n",
    "    where $(h_\\theta(x^{(i)})$ is prediction for present iteration\n",
    "\n",
    "\n",
    "    $$\\theta_1(t+1) = \\theta_1(t) - learning\\_rate * cost(t) * x(t)$$\n",
    "    $$\\theta_0(t+1) = \\theta_0(t) - learning\\_rate * cost(t) $$\n",
    "\n",
    "\n",
    "3. Find the values of $\\theta_1$ & $\\theta_0$ by updating the values with learning rate of 0.005, 0.0005 etc and epoch value 100,500,1000\n",
    "4. Stop the iterations when error falls below threshold"
   ]
  },
  {
   "cell_type": "code",
   "execution_count": 6,
   "metadata": {},
   "outputs": [
    {
     "name": "stdout",
     "output_type": "stream",
     "text": [
      "**********************\n",
      "learning rate= 0.005\n",
      "epoch value= 100\n",
      "theta 1= 0.84035\n",
      "theta 0= 0.247368\n",
      "**********************\n",
      "**********************\n",
      "learning rate= 0.005\n",
      "epoch value= 500\n",
      "theta 1= 0.830046\n",
      "theta 0= 0.291523\n",
      "**********************\n",
      "**********************\n",
      "learning rate= 0.005\n",
      "epoch value= 1000\n",
      "theta 1= 0.819687\n",
      "theta 0= 0.328925\n",
      "**********************\n"
     ]
    }
   ],
   "source": [
    "#For learning rate 0.005\n",
    "\n",
    "import tensorflow as tf\n",
    "import numpy as np\n",
    "import matplotlib.pyplot as plt\n",
    "\n",
    "# Trail dataset\n",
    "x=tf.constant([1.0,2.0,4.0,3.0,5.0],name='f')\n",
    "y=tf.constant([1.0,3.0,3.0,2.0,5.0],name='s')\n",
    "epoch=tf.constant([100,500,1000])\n",
    "learning_rate = 0.005\n",
    "\n",
    "for i in range (3):\n",
    "    p=epoch[i]\n",
    "    t0=0.0\n",
    "    t1=0.0\n",
    "    s1=tf.reduce_sum(tf.multiply(tf.subtract(tf.add(tf.multiply(x,t1),t0),y),x))\n",
    "    s0=tf.reduce_sum(tf.subtract(tf.add(tf.multiply(x,t1),t0),y))\n",
    "    tn1=tf.subtract(t1,tf.multiply(learning_rate,tf.divide(s1,tf.cast(tf.size(x),tf.float32))))\n",
    "    tn0=tf.subtract(t0,tf.multiply(learning_rate,tf.divide(s0,tf.cast(tf.size(x),tf.float32))))\n",
    "    threshold=0.001\n",
    "    model=tf.global_variables_initializer()\n",
    "    with tf.Session() as sess:\n",
    "        sess.run(model)\n",
    "        for j in range(sess.run(p)):\n",
    "            t1=tn1\n",
    "            t0=tn0\n",
    "            s1=tf.reduce_sum(tf.multiply(tf.subtract(tf.add(tf.multiply(x,t1),t0),y),x))\n",
    "            s0=tf.reduce_sum(tf.subtract(tf.add(tf.multiply(x,t1),t0),y))\n",
    "            tn1=tf.subtract(t1,tf.multiply(learning_rate,tf.divide(s1,tf.cast(tf.size(x),tf.float32))))\n",
    "            tn0=tf.subtract(t0,tf.multiply(learning_rate,tf.divide(s0,tf.cast(tf.size(x),tf.float32))))\n",
    "        print(\"**********************\")\n",
    "        print(\"learning rate=\",learning_rate)\n",
    "        print(\"epoch value=\",sess.run(p))\n",
    "        print(\"theta 1=\",sess.run(tn1))\n",
    "        print(\"theta 0=\",sess.run(tn0))\n",
    "        print(\"**********************\")"
   ]
  },
  {
   "cell_type": "code",
   "execution_count": 7,
   "metadata": {},
   "outputs": [
    {
     "name": "stdout",
     "output_type": "stream",
     "text": [
      "**********************\n",
      "learning rate= 0.0005\n",
      "epoch value= 100\n",
      "theta 1= 0.380914\n",
      "theta 0= 0.107024\n",
      "**********************\n",
      "**********************\n",
      "learning rate= 0.0005\n",
      "epoch value= 500\n",
      "theta 1= 0.800702\n",
      "theta 0= 0.229179\n",
      "**********************\n",
      "**********************\n",
      "learning rate= 0.0005\n",
      "epoch value= 1000\n",
      "theta 1= 0.839944\n",
      "theta 0= 0.247126\n",
      "**********************\n"
     ]
    }
   ],
   "source": [
    "#For learning rate=0.0005\n",
    "\n",
    "import tensorflow as tf\n",
    "import numpy as np\n",
    "import matplotlib.pyplot as plt\n",
    "\n",
    "#Trial dataset\n",
    "x=tf.constant([1.0,2.0,4.0,3.0,5.0],name='f')\n",
    "y=tf.constant([1.0,3.0,3.0,2.0,5.0],name='s')\n",
    "epoch=tf.constant([100,500,1000])\n",
    "learning_rate = 0.0005\n",
    "\n",
    "for i in range (3):\n",
    "    p=epoch[i]\n",
    "    t0=0.0\n",
    "    t1=0.0\n",
    "    s1=tf.reduce_sum(tf.multiply(tf.subtract(tf.add(tf.multiply(x,t1),t0),y),x))\n",
    "    s0=tf.reduce_sum(tf.subtract(tf.add(tf.multiply(x,t1),t0),y))\n",
    "    tn1=tf.subtract(t1,tf.multiply(learning_rate,tf.divide(s1,tf.cast(tf.size(x),tf.float32))))\n",
    "    tn0=tf.subtract(t0,tf.multiply(learning_rate,tf.divide(s0,tf.cast(tf.size(x),tf.float32))))\n",
    "    threshold=0.001\n",
    "    model=tf.global_variables_initializer()\n",
    "    with tf.Session() as sess:\n",
    "        sess.run(model)\n",
    "        for j in range(sess.run(p)):\n",
    "            t1=tn1\n",
    "            t0=tn0\n",
    "            s1=tf.reduce_sum(tf.multiply(tf.subtract(tf.add(tf.multiply(x,t1),t0),y),x))\n",
    "            s0=tf.reduce_sum(tf.subtract(tf.add(tf.multiply(x,t1),t0),y))\n",
    "            tn1=tf.subtract(t1,tf.multiply(learning_rate,tf.divide(s1,tf.cast(tf.size(x),tf.float32))))\n",
    "            tn0=tf.subtract(t0,tf.multiply(learning_rate,tf.divide(s0,tf.cast(tf.size(x),tf.float32))))\n",
    "        print(\"**********************\")\n",
    "        print(\"learning rate=\",learning_rate)\n",
    "        print(\"epoch value=\",sess.run(p))\n",
    "        print(\"theta 1=\",sess.run(tn1))\n",
    "        print(\"theta 0=\",sess.run(tn0))\n",
    "        print(\"**********************\")"
   ]
  },
  {
   "cell_type": "code",
   "execution_count": null,
   "metadata": {
    "collapsed": true
   },
   "outputs": [],
   "source": []
  }
 ],
 "metadata": {
  "kernelspec": {
   "display_name": "Python 3",
   "language": "python",
   "name": "python3"
  },
  "language_info": {
   "codemirror_mode": {
    "name": "ipython",
    "version": 3
   },
   "file_extension": ".py",
   "mimetype": "text/x-python",
   "name": "python",
   "nbconvert_exporter": "python",
   "pygments_lexer": "ipython3",
   "version": "3.6.1"
  }
 },
 "nbformat": 4,
 "nbformat_minor": 2
}
