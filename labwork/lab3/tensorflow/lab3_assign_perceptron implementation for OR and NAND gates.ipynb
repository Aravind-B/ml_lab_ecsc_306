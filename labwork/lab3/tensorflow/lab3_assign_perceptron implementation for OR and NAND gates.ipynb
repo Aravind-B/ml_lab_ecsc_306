{
 "cells": [
  {
   "cell_type": "markdown",
   "metadata": {},
   "source": [
    "Perceptron model function\n",
    "\n",
    "$$ z = \\sum_{i=1}^m(w_i * x_i) +b $$\n",
    "\n",
    "Sigmoid Function\n",
    "\n",
    "$$ f(z) =  \\frac{1}{1 + e^{-z}} $$"
   ]
  },
  {
   "cell_type": "markdown",
   "metadata": {},
   "source": [
    "### Implementing perceptron using sigmoid function for OR gate"
   ]
  },
  {
   "cell_type": "code",
   "execution_count": 19,
   "metadata": {},
   "outputs": [
    {
     "name": "stdout",
     "output_type": "stream",
     "text": [
      "iteration=  0 cost=  0.664274\n",
      "iteration=  1000 cost=  0.387975\n",
      "iteration=  2000 cost=  0.292294\n",
      "iteration=  3000 cost=  0.232236\n",
      "iteration=  4000 cost=  0.191902\n",
      "iteration=  5000 cost=  0.163149\n",
      "iteration=  6000 cost=  0.14165\n",
      "iteration=  7000 cost=  0.124977\n",
      "iteration=  8000 cost=  0.111678\n",
      "iteration=  9000 cost=  0.100832\n",
      "iteration=  10000 cost=  0.0918263\n",
      "iteration=  11000 cost=  0.0842357\n",
      "iteration=  12000 cost=  0.0777566\n",
      "\n",
      "Input - [[0 0]\n",
      " [0 1]\n",
      " [1 0]\n",
      " [1 1]]\n",
      "Ground truth - [[0]\n",
      " [1]\n",
      " [1]\n",
      " [1]]\n",
      "Validating output for OR GATE\n",
      "[[ 0.16334637]\n",
      " [ 0.93290383]\n",
      " [ 0.9395991 ]\n",
      " [ 0.99909818]]\n"
     ]
    }
   ],
   "source": [
    "import tensorflow as tf\n",
    "import numpy as np\n",
    "x=tf.placeholder(tf.float32,shape=[None,2])\n",
    "y=tf.placeholder(tf.float32,shape=[None,1])\n",
    "\n",
    "weights=tf.Variable(tf.random_normal([2,1]),dtype=tf.float32)\n",
    "bias=tf.Variable(tf.random_normal([1]),dtype=tf.float32)\n",
    "\n",
    "multiply1=tf.add(tf.matmul(x,weights),bias)\n",
    "z=tf.nn.sigmoid(multiply1)\n",
    "\n",
    "cost=tf.reduce_mean((y*tf.log(z)+(1-y)*tf.log(1-z))*-1)\n",
    "optimizer = tf.train.GradientDescentOptimizer(0.01).minimize(cost)\n",
    "\n",
    "\n",
    "inp=np.array([[0,0],[0,1],[1,0],[1,1]])\n",
    "op=np.array([[0],[1],[1],[1]])\n",
    "\n",
    "with tf.Session() as sess:\n",
    "   \n",
    "    tf.global_variables_initializer().run()\n",
    "    for i in range(12001):\n",
    "        res,_=sess.run([cost,optimizer],feed_dict={x:inp,y:op})\n",
    "        if i%1000==0:\n",
    "            print (\"iteration= \",i,\"cost= \",res)\n",
    "\n",
    "    print (\"\\nInput - {}\".format(inp))\n",
    "    print (\"Ground truth - {}\".format(op))\n",
    "    print (\"Validating output for OR GATE\")\n",
    "    result=sess.run(z,feed_dict={x:inp})\n",
    "    print (result)\n",
    "    "
   ]
  },
  {
   "cell_type": "markdown",
   "metadata": {},
   "source": [
    "### Implementing perceptron using sigmoid function for NAND gate"
   ]
  },
  {
   "cell_type": "code",
   "execution_count": 26,
   "metadata": {},
   "outputs": [
    {
     "name": "stdout",
     "output_type": "stream",
     "text": [
      "iteration=  0 cost=  1.00221\n",
      "iteration=  1000 cost=  0.628226\n",
      "iteration=  2000 cost=  0.448465\n",
      "iteration=  3000 cost=  0.353002\n",
      "iteration=  4000 cost=  0.294206\n",
      "iteration=  5000 cost=  0.253723\n",
      "iteration=  6000 cost=  0.223709\n",
      "iteration=  7000 cost=  0.20033\n",
      "iteration=  8000 cost=  0.181487\n",
      "iteration=  9000 cost=  0.165915\n",
      "iteration=  10000 cost=  0.152799\n",
      "iteration=  11000 cost=  0.141585\n",
      "iteration=  12000 cost=  0.131879\n",
      "\n",
      "Input - [[0 0]\n",
      " [0 1]\n",
      " [1 0]\n",
      " [1 1]]\n",
      "Ground truth - [[1]\n",
      " [1]\n",
      " [1]\n",
      " [0]]\n",
      "Validating output for NAND GATE\n",
      "[[ 0.99356306]\n",
      " [ 0.86147338]\n",
      " [ 0.85990167]\n",
      " [ 0.19826306]]\n"
     ]
    }
   ],
   "source": [
    "import tensorflow as tf\n",
    "import numpy as np\n",
    "x=tf.placeholder(tf.float32,shape=[None,2])\n",
    "y=tf.placeholder(tf.float32,shape=[None,1])\n",
    "\n",
    "weights=tf.Variable(tf.random_normal([2,1]),dtype=tf.float32)\n",
    "bias=tf.Variable(tf.random_normal([1]),dtype=tf.float32)\n",
    "\n",
    "multiply1=tf.add(tf.matmul(x,weights),bias)\n",
    "z=tf.nn.sigmoid(multiply1)\n",
    "\n",
    "cost=tf.reduce_mean((y*tf.log(z)+(1-y)*tf.log(1-z))*-1)\n",
    "optimizer = tf.train.GradientDescentOptimizer(0.01).minimize(cost)\n",
    "\n",
    "\n",
    "inp=np.array([[0,0],[0,1],[1,0],[1,1]])\n",
    "op=np.array([[1],[1],[1],[0]])\n",
    "\n",
    "with tf.Session() as sess:\n",
    "   \n",
    "    tf.global_variables_initializer().run()\n",
    "    for i in range(12001):\n",
    "        res,_=sess.run([cost,optimizer],feed_dict={x:inp,y:op})\n",
    "        if i%1000==0:\n",
    "            print (\"iteration= \",i,\"cost= \",res)\n",
    "\n",
    "    print (\"\\nInput - {}\".format(inp))\n",
    "    print (\"Ground truth - {}\".format(op))\n",
    "    print (\"Validating output for NAND GATE\")\n",
    "    result=sess.run(z,feed_dict={x:inp})\n",
    "    print (result)\n",
    "    "
   ]
  },
  {
   "cell_type": "code",
   "execution_count": null,
   "metadata": {
    "collapsed": true
   },
   "outputs": [],
   "source": []
  }
 ],
 "metadata": {
  "anaconda-cloud": {},
  "kernelspec": {
   "display_name": "Python 3",
   "language": "python",
   "name": "python3"
  },
  "language_info": {
   "codemirror_mode": {
    "name": "ipython",
    "version": 3
   },
   "file_extension": ".py",
   "mimetype": "text/x-python",
   "name": "python",
   "nbconvert_exporter": "python",
   "pygments_lexer": "ipython3",
   "version": "3.6.1"
  }
 },
 "nbformat": 4,
 "nbformat_minor": 2
}
