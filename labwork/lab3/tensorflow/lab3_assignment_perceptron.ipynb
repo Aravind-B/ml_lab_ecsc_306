{
 "cells": [
  {
   "cell_type": "markdown",
   "metadata": {
    "slideshow": {
     "slide_type": "slide"
    }
   },
   "source": [
    "## Implementaion of Logic Gates using Perceptron"
   ]
  },
  {
   "cell_type": "markdown",
   "metadata": {
    "slideshow": {
     "slide_type": "slide"
    }
   },
   "source": [
    "Logic Gates to implement for 3 i/p variables.\n",
    "\n",
    "\n",
    "1. OR\n",
    "2. NOT\n",
    "3. XOR\n",
    "4. XNOR\n",
    "5. NAND\n",
    "6. NOR\n",
    "7. AND\n"
   ]
  },
  {
   "cell_type": "markdown",
   "metadata": {
    "slideshow": {
     "slide_type": "slide"
    }
   },
   "source": [
    "Perceptron model function\n",
    "\n",
    "$$ z = \\sum_{i=1}^m(w_i * x_i) +b $$"
   ]
  },
  {
   "cell_type": "markdown",
   "metadata": {
    "slideshow": {
     "slide_type": "slide"
    }
   },
   "source": [
    "Sigmoid Function\n",
    "\n",
    "$$ f(z) =  \\frac{1}{1 + e^{-z}} $$"
   ]
  },
  {
   "cell_type": "markdown",
   "metadata": {
    "slideshow": {
     "slide_type": "slide"
    }
   },
   "source": [
    "Part 1.\n",
    "Write a tensorflow program to implement a perceptron using functions described above for AND , OR and NAND logic gates. \n",
    "Choose weights and bias values accordingly."
   ]
  },
  {
   "cell_type": "markdown",
   "metadata": {
    "slideshow": {
     "slide_type": "slide"
    }
   },
   "source": [
    "Part 2. \n",
    "1. Use tensorflow library functions (Logical/Linear Regression )to find optimal weights and bias for all above mentioned gates.\n",
    "2. Discuss the values choosen for epoch and stopping convergence. Plot the graph for accuracy v/s epoch."
   ]
  }
 ],
 "metadata": {
  "celltoolbar": "Slideshow",
  "kernelspec": {
   "display_name": "Python 2",
   "language": "python",
   "name": "python2"
  },
  "language_info": {
   "codemirror_mode": {
    "name": "ipython",
    "version": 2
   },
   "file_extension": ".py",
   "mimetype": "text/x-python",
   "name": "python",
   "nbconvert_exporter": "python",
   "pygments_lexer": "ipython2",
   "version": "2.7.6"
  }
 },
 "nbformat": 4,
 "nbformat_minor": 2
}
